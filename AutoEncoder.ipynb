{
 "cells": [
  {
   "cell_type": "code",
   "execution_count": null,
   "metadata": {},
   "outputs": [],
   "source": [
    "import numpy as np\n",
    "from keras.layers import Input, Conv2D, MaxPooling2D, UpSampling2D\n",
    "from keras.models import Model\n",
    "from keras.datasets import mnist\n",
    "import tensorflow as tf\n",
    "from tensorflow import keras\n",
    "import matplotlib.pyplot as plt\n",
    "%matplotlib inline"
   ]
  },
  {
   "cell_type": "code",
   "execution_count": null,
   "metadata": {},
   "outputs": [],
   "source": [
    "\n",
    "fashion_mnist = keras.datasets.fashion_mnist\n",
    "(X_train,_),(X_test,_) = fashion_mnist.load_data()"
   ]
  },
  {
   "cell_type": "code",
   "execution_count": null,
   "metadata": {},
   "outputs": [],
   "source": [
    "# Prepare datasets\n",
    "# This step contains normalization and reshaping of input.\n",
    "# For output, it is important to change number to one-hot vector. \n",
    "X_train = X_train.astype('float32') / 255\n",
    "#X_train = X_train.reshape(X_train.shape[0], 1, 28, 28)\n",
    "X_test = X_test.astype('float32') / 255\n",
    "#X_test = X_test.reshape(X_test.shape[0], 1, 28, 28)\n",
    "X_train = np.reshape(X_train, (-1, 28, 28, 1))\n",
    "X_test = np.reshape(X_test, (-1, 28, 28, 1))\n",
    "#y_train = np_utils.to_categorical(y_train, 10)\n",
    "#y_test = np_utils.to_categorical(y_test, 10)"
   ]
  },
  {
   "cell_type": "code",
   "execution_count": null,
   "metadata": {},
   "outputs": [],
   "source": [
    "print(X_train.shape, X_test.shape)"
   ]
  },
  {
   "cell_type": "code",
   "execution_count": null,
   "metadata": {},
   "outputs": [],
   "source": [
    "input_img = Input(shape=(28,28,1))\n",
    "x = Conv2D(16,(3,3), activation='relu', padding='same')(input_img)\n",
    "x = MaxPooling2D((2,2), padding='same')(x)\n",
    "x = Conv2D(8,(3,3), activation='relu', padding='same')(x)\n",
    "x = MaxPooling2D((2,2), padding='same')(x)\n",
    "x = Conv2D(8,(3,3), activation='relu', padding='same')(x)\n",
    "encoded = MaxPooling2D((2,2), padding='same', name='encoder')(x)\n",
    "\n",
    "x = Conv2D(8, (3, 3), activation='relu', padding='same')(encoded)\n",
    "x = UpSampling2D((2, 2))(x)\n",
    "x = Conv2D(8, (3, 3), activation='relu', padding='same')(x)\n",
    "x = UpSampling2D((2, 2))(x)\n",
    "x = Conv2D(16, (3, 3), activation='relu')(x)\n",
    "x = UpSampling2D((2, 2))(x)\n",
    "decoded = Conv2D(1, (3, 3), activation='sigmoid', padding='same')(x)\n",
    "\n",
    "autoencoder = Model(input_img, decoded)\n",
    "autoencoder.compile(optimizer='adam', loss='mse')"
   ]
  },
  {
   "cell_type": "code",
   "execution_count": 6,
   "metadata": {},
   "outputs": [],
   "source": [
    "# from tensorflow.keras.preprocessing.image import ImageDataGenerator\n",
    "\n",
    "# train_datagen = ImageDataGenerator(\n",
    "#     rescale=1./255,\n",
    "#     shear_range=0.2,\n",
    "#     zoom_range=0.2,\n",
    "#     horizontal_flip=True)\n",
    "\n",
    "# test_datagen = ImageDataGenerator(rescale=1./255)\n",
    "\n",
    "# train_generator = train_datagen.flow_from_directory(\n",
    "#     'dataset/fashionmnist/FashionMNIST',\n",
    "#     target_size=(64, 64),\n",
    "#     batch_size=32,\n",
    "#     class_mode='binary')"
   ]
  },
  {
   "cell_type": "code",
   "execution_count": null,
   "metadata": {},
   "outputs": [],
   "source": [
    "#Reshape((224,224,3), input_shape=(160,320,3)\n",
    "#autoencoder.fit(X_train, X_train, epochs=2, batch_size=32, callbacks=None )"
   ]
  },
  {
   "cell_type": "code",
   "execution_count": 7,
   "metadata": {},
   "outputs": [],
   "source": [
    "#autoencoder.save('autoencoder.h5')\n",
    "autoencoder.load_weights('autoencoder.h5')"
   ]
  },
  {
   "cell_type": "code",
   "execution_count": 8,
   "metadata": {},
   "outputs": [
    {
     "name": "stdout",
     "output_type": "stream",
     "text": [
      "Model: \"model_1\"\n",
      "_________________________________________________________________\n",
      "Layer (type)                 Output Shape              Param #   \n",
      "=================================================================\n",
      "input_1 (InputLayer)         (None, 28, 28, 1)         0         \n",
      "_________________________________________________________________\n",
      "conv2d_1 (Conv2D)            (None, 28, 28, 16)        160       \n",
      "_________________________________________________________________\n",
      "max_pooling2d_1 (MaxPooling2 (None, 14, 14, 16)        0         \n",
      "_________________________________________________________________\n",
      "conv2d_2 (Conv2D)            (None, 14, 14, 8)         1160      \n",
      "_________________________________________________________________\n",
      "max_pooling2d_2 (MaxPooling2 (None, 7, 7, 8)           0         \n",
      "_________________________________________________________________\n",
      "conv2d_3 (Conv2D)            (None, 7, 7, 8)           584       \n",
      "_________________________________________________________________\n",
      "encoder (MaxPooling2D)       (None, 4, 4, 8)           0         \n",
      "_________________________________________________________________\n",
      "conv2d_4 (Conv2D)            (None, 4, 4, 8)           584       \n",
      "_________________________________________________________________\n",
      "up_sampling2d_1 (UpSampling2 (None, 8, 8, 8)           0         \n",
      "_________________________________________________________________\n",
      "conv2d_5 (Conv2D)            (None, 8, 8, 8)           584       \n",
      "_________________________________________________________________\n",
      "up_sampling2d_2 (UpSampling2 (None, 16, 16, 8)         0         \n",
      "_________________________________________________________________\n",
      "conv2d_6 (Conv2D)            (None, 14, 14, 16)        1168      \n",
      "_________________________________________________________________\n",
      "up_sampling2d_3 (UpSampling2 (None, 28, 28, 16)        0         \n",
      "_________________________________________________________________\n",
      "conv2d_7 (Conv2D)            (None, 28, 28, 1)         145       \n",
      "=================================================================\n",
      "Total params: 4,385\n",
      "Trainable params: 4,385\n",
      "Non-trainable params: 0\n",
      "_________________________________________________________________\n"
     ]
    }
   ],
   "source": [
    "autoencoder.summary()"
   ]
  },
  {
   "cell_type": "code",
   "execution_count": 9,
   "metadata": {},
   "outputs": [],
   "source": [
    "encoder = Model(inputs=autoencoder.input, outputs=autoencoder.get_layer('encoder').output)"
   ]
  },
  {
   "cell_type": "code",
   "execution_count": 10,
   "metadata": {},
   "outputs": [],
   "source": [
    "encoder.save('encoder.h5')"
   ]
  },
  {
   "cell_type": "code",
   "execution_count": 12,
   "metadata": {},
   "outputs": [],
   "source": [
    "#query = X_test[11]"
   ]
  },
  {
   "cell_type": "code",
   "execution_count": null,
   "metadata": {},
   "outputs": [],
   "source": [
    "#plt.imshow(query.reshape(28,28), cmap='gray')"
   ]
  },
  {
   "cell_type": "code",
   "execution_count": 13,
   "metadata": {},
   "outputs": [],
   "source": [
    "#X_test.shape"
   ]
  },
  {
   "cell_type": "code",
   "execution_count": 44,
   "metadata": {},
   "outputs": [
    {
     "name": "stdout",
     "output_type": "stream",
     "text": [
      "Found 500 images belonging to 1 classes.\n",
      "Found 500 images belonging to 1 classes.\n",
      "<keras_preprocessing.image.directory_iterator.DirectoryIterator object at 0x000002842E90ADD8>\n",
      "<keras_preprocessing.image.directory_iterator.DirectoryIterator object at 0x000002842E9FA390>\n"
     ]
    }
   ],
   "source": [
    "from tensorflow.keras.preprocessing.image import ImageDataGenerator\n",
    "test_datagen = ImageDataGenerator(rescale=1./255)\n",
    "X_test_itr=test_datagen.flow_from_directory(\n",
    "    '.', classes=['classes'],\n",
    "    target_size=(28, 28),\n",
    "    batch_size=500,\n",
    "    color_mode='grayscale')\n",
    "validation_generator = test_datagen.flow_from_directory(\n",
    "    '.', classes=['classes'],\n",
    "    target_size=(28, 28),\n",
    "    batch_size=32,\n",
    "    color_mode='grayscale')\n",
    "print(validation_generator)\n",
    "print(X_test_itr)\n"
   ]
  },
  {
   "cell_type": "code",
   "execution_count": 79,
   "metadata": {},
   "outputs": [],
   "source": [
    "X_test, X_test_L = X_test_itr.next()\n",
    "    "
   ]
  },
  {
   "cell_type": "code",
   "execution_count": 80,
   "metadata": {},
   "outputs": [
    {
     "data": {
      "text/plain": [
       "(500, 28, 28, 1)"
      ]
     },
     "execution_count": 80,
     "metadata": {},
     "output_type": "execute_result"
    }
   ],
   "source": [
    "X_test.shape"
   ]
  },
  {
   "cell_type": "code",
   "execution_count": 51,
   "metadata": {},
   "outputs": [
    {
     "name": "stdout",
     "output_type": "stream",
     "text": [
      "(28, 28, 1)\n",
      "(28, 28, 1)\n"
     ]
    },
    {
     "data": {
      "image/png": "[encoded data removed]",
      "text/plain": [
       "<Figure size 432x288 with 1 Axes>"
      ]
     },
     "metadata": {
      "needs_background": "light"
     },
     "output_type": "display_data"
    }
   ],
   "source": [
    "query = X_test[2]\n",
    "print(query.shape)\n",
    "plt.imshow(query.reshape(28,28))\n",
    "print(query.shape)"
   ]
  },
  {
   "cell_type": "code",
   "execution_count": 81,
   "metadata": {},
   "outputs": [],
   "source": [
    "codes = encoder.predict(X_train)"
   ]
  },
  {
   "cell_type": "code",
   "execution_count": 82,
   "metadata": {},
   "outputs": [
    {
     "data": {
      "text/plain": [
       "(60000, 4, 4, 8)"
      ]
     },
     "execution_count": 82,
     "metadata": {},
     "output_type": "execute_result"
    }
   ],
   "source": [
    "codes.shape"
   ]
  },
  {
   "cell_type": "code",
   "execution_count": 83,
   "metadata": {},
   "outputs": [
    {
     "data": {
      "text/plain": [
       "(28, 28, 1)"
      ]
     },
     "execution_count": 83,
     "metadata": {},
     "output_type": "execute_result"
    }
   ],
   "source": [
    "X_test[0].shape"
   ]
  },
  {
   "cell_type": "code",
   "execution_count": 84,
   "metadata": {},
   "outputs": [],
   "source": [
    "query_codes = encoder.predict(X_test)"
   ]
  },
  {
   "cell_type": "code",
   "execution_count": 85,
   "metadata": {},
   "outputs": [
    {
     "data": {
      "text/plain": [
       "(500, 4, 4, 8)"
      ]
     },
     "execution_count": 85,
     "metadata": {},
     "output_type": "execute_result"
    }
   ],
   "source": [
    "query_codes.shape"
   ]
  },
  {
   "cell_type": "code",
   "execution_count": 86,
   "metadata": {},
   "outputs": [
    {
     "name": "stdout",
     "output_type": "stream",
     "text": [
      "(60000, 128)\n",
      "(500, 128)\n"
     ]
    }
   ],
   "source": [
    "from sklearn.neighbors import NearestNeighbors\n",
    "n_neigh = 1\n",
    "codes = codes.reshape(-1, 4*4*8); print(codes.shape)\n",
    "query_codes = query_codes.reshape(-1, 4*4*8); print(query_codes.shape)"
   ]
  },
  {
   "cell_type": "code",
   "execution_count": 87,
   "metadata": {},
   "outputs": [],
   "source": [
    "nbrs = NearestNeighbors(n_neighbors=n_neigh).fit(codes)\n",
    "cs = []\n",
    "for i in range(500):\n",
    "    distances, indices = nbrs.kneighbors(np.array(query_codes[i].reshape(-1,128)))\n",
    "    closest_images = X_train[indices]\n",
    "    closest_images = closest_images.reshape(-1,28,28,1); \n",
    "    #print(closest_images.shape)\n",
    "    codes1 = encoder.predict(closest_images)\n",
    "    query_code1 = encoder.predict(X_test[i].reshape(1,28,28,1))\n",
    "    #print(query_code1.shape)\n",
    "    query_code1_temp = query_code1.reshape(128)\n",
    "    #print(query_code1_temp)\n",
    "    codes1_temp = codes1[0].reshape(128)\n",
    "    #print(codes1_temp.shape)\n",
    "    cs.append(np.dot(codes1_temp, query_code1_temp) / (np.linalg.norm(codes1_temp) * np.linalg.norm(query_code1_temp)))"
   ]
  },
  {
   "cell_type": "code",
   "execution_count": 88,
   "metadata": {},
   "outputs": [
    {
     "name": "stdout",
     "output_type": "stream",
     "text": [
      "[0.99501246, 0.9686748, 0.9915101, 0.99707, 0.99625176, 0.9864249, 0.9894067, 0.9925209, 0.99138474, 0.99033904, 0.99401814, 0.9958668, 0.99752694, 0.99457645, 0.98731303, 0.9948131, 0.9864569, 0.9879672, 0.98790205, 0.99583685, 0.9874806, 0.9896559, 0.9885667, 0.9869248, 0.9944122, 0.9891549, 0.9967306, 0.99360424, 0.9945361, 0.9696826, 0.99675244, 0.9817006, 0.996513, 0.9974565, 0.98671824, 0.995285, 0.9935752, 0.99497896, 0.97498214, 0.98912555, 0.9802392, 0.99657065, 0.9938915, 0.9957905, 0.9925277, 0.9851699, 0.996157, 0.99023074, 0.9699839, 0.9796194, 0.9874153, 0.9966462, 0.9976494, 0.97801065, 0.9980365, 0.99302894, 0.993971, 0.99227303, 0.9932936, 0.99351895, 0.994184, 0.9942373, 0.9984269, 0.9964125, 0.98050964, 0.99214226, 0.99559224, 0.99643064, 0.99767655, 0.9950872, 0.9866995, 0.9972178, 0.99131644, 0.993106, 0.985168, 0.9926706, 0.99000114, 0.99020797, 0.9922017, 0.99671394, 0.99486756, 0.99660563, 0.99068475, 0.9946564, 0.9924412, 0.97420514, 0.9945696, 0.9930913, 0.99601835, 0.9955115, 0.9973271, 0.9964956, 0.99541765, 0.98032475, 0.9692536, 0.99149877, 0.9971044, 0.9924591, 0.97834843, 0.9924996, 0.98072857, 0.9974381, 0.9914822, 0.9941637, 0.9955181, 0.9912211, 0.98824376, 0.95224416, 0.99411744, 0.9962721, 0.99812794, 0.98321307, 0.9943317, 0.99520975, 0.9965628, 0.9957097, 0.9944262, 0.99540967, 0.9933467, 0.99493027, 0.99604154, 0.9897199, 0.9895301, 0.988739, 0.99269766, 0.9937978, 0.99465436, 0.9961813, 0.97663295, 0.99581575, 0.997117, 0.99505365, 0.97294676, 0.994051, 0.99094343, 0.98904216, 0.99604845, 0.9908011, 0.99552995, 0.99294615, 0.9905248, 0.98888266, 0.9939596, 0.99177706, 0.9705006, 0.9974993, 0.99459714, 0.9893067, 0.99305564, 0.9925775, 0.9985394, 0.99876934, 0.99438447, 0.99543875, 0.9856428, 0.9921486, 0.98358023, 0.9711862, 0.96079147, 0.9950373, 0.9947971, 0.9961543, 0.9906209, 0.9805285, 0.9963945, 0.9924576, 0.9833204, 0.99680156, 0.99723756, 0.9888288, 0.9916626, 0.9948795, 0.97716665, 0.9947041, 0.96868074, 0.9948992, 0.9980814, 0.97359955, 0.97852814, 0.988265, 0.99591285, 0.9921582, 0.9870703, 0.988028, 0.9903085, 0.99780345, 0.9894915, 0.98550457, 0.9929079, 0.99411523, 0.99563605, 0.99468905, 0.99666554, 0.99450934, 0.9952349, 0.9953817, 0.9963311, 0.99036354, 0.9872804, 0.9940406, 0.97084576, 0.99292696, 0.9780383, 0.9936837, 0.99509376, 0.9939402, 0.9713067, 0.98095816, 0.9916844, 0.9934175, 0.97547007, 0.99257165, 0.98585904, 0.98488164, 0.9861506, 0.98408425, 0.98357165, 0.99460906, 0.99161583, 0.9863341, 0.9872898, 0.98766166, 0.9617199, 0.9770429, 0.9929283, 0.98861635, 0.9936518, 0.98766696, 0.9803846, 0.9868147, 0.99087435, 0.9954173, 0.9891605, 0.9766097, 0.99821424, 0.99633443, 0.9944141, 0.9914915, 0.99698675, 0.9912085, 0.98568344, 0.9682541, 0.9880916, 0.99795866, 0.9958355, 0.99648786, 0.9942555, 0.9959456, 0.99399436, 0.9800895, 0.99421316, 0.99030966, 0.9823433, 0.9761466, 0.9876273, 0.9965682, 0.95774305, 0.9856052, 0.9905841, 0.98596275, 0.96806026, 0.98159313, 0.99225134, 0.9941956, 0.99499303, 0.9915295, 0.9823739, 0.99663424, 0.99766797, 0.99312294, 0.9973199, 0.99235284, 0.99440455, 0.9958698, 0.9896661, 0.98166835, 0.99792635, 0.9948266, 0.9940534, 0.9834386, 0.9902982, 0.9798459, 0.9965294, 0.9974438, 0.9978337, 0.9807839, 0.9962347, 0.99584687, 0.9702847, 0.9754614, 0.98945874, 0.9909015, 0.9899773, 0.99319524, 0.9965784, 0.98865974, 0.991954, 0.9812528, 0.99371505, 0.9808212, 0.99784, 0.99615747, 0.9946572, 0.99599254, 0.9965444, 0.9938127, 0.9964744, 0.9897479, 0.9793959, 0.9951452, 0.99794036, 0.9735356, 0.9952456, 0.99376875, 0.9968731, 0.9958873, 0.9663207, 0.9915141, 0.9967136, 0.9953832, 0.9922107, 0.99475336, 0.9979187, 0.9920094, 0.9880718, 0.9823851, 0.97246486, 0.99369943, 0.9962363, 0.9963148, 0.99023515, 0.995204, 0.99275804, 0.9773144, 0.995581, 0.98257124, 0.99461174, 0.98407847, 0.9966432, 0.9609403, 0.995708, 0.9870894, 0.9951084, 0.9970553, 0.9952471, 0.984677, 0.97225803, 0.9959693, 0.9876855, 0.97401845, 0.99675196, 0.99511343, 0.99284434, 0.98823595, 0.99508816, 0.99610275, 0.99414253, 0.9806648, 0.9976914, 0.9597621, 0.9971056, 0.9830288, 0.99528474, 0.99628484, 0.9841535, 0.9870009, 0.99280936, 0.9927197, 0.9962094, 0.98845303, 0.9898561, 0.99451387, 0.9914562, 0.99124485, 0.95587146, 0.9827672, 0.9911892, 0.99300176, 0.99370265, 0.99819386, 0.99594057, 0.9949303, 0.9964371, 0.9960805, 0.9934766, 0.9648768, 0.9962661, 0.99632573, 0.99690723, 0.9947016, 0.9955561, 0.99196786, 0.9947307, 0.9958082, 0.9938778, 0.9811808, 0.99309015, 0.9965386, 0.9945638, 0.98978823, 0.99499184, 0.9956668, 0.99065506, 0.9928503, 0.9827141, 0.9915653, 0.994137, 0.9803259, 0.98931766, 0.99671036, 0.9840709, 0.9848715, 0.98918575, 0.9862447, 0.9786967, 0.9877701, 0.9853891, 0.9974763, 0.9944192, 0.9962796, 0.99304587, 0.9851159, 0.9886592, 0.9847361, 0.9937521, 0.99288, 0.99705315, 0.99368423, 0.9961502, 0.99249005, 0.99684525, 0.9835181, 0.9918452, 0.97544396, 0.99569756, 0.9915601, 0.98990023, 0.99297255, 0.99683607, 0.9969168, 0.9975134, 0.99044293, 0.99421936, 0.98119694, 0.99344105, 0.9968476, 0.9948885, 0.99613875, 0.9976004, 0.9956751, 0.9864806, 0.9883933, 0.97969925, 0.9930167, 0.9968955, 0.9916673, 0.99076766, 0.9841522, 0.99731576, 0.9912033, 0.9950317, 0.99633175, 0.99505615, 0.9908753, 0.9971924, 0.9872658, 0.9953998, 0.9598823, 0.99076724, 0.99267954, 0.97687066, 0.9960153, 0.9638898, 0.98546827, 0.997259, 0.9913413, 0.9875243, 0.99729115, 0.99207276, 0.96895903, 0.96723837, 0.9892453, 0.9951584, 0.9734869, 0.99588805, 0.9935505, 0.9949791, 0.9955295, 0.9913356, 0.9979213, 0.9767536, 0.9887741, 0.9817656, 0.98319983, 0.99336976, 0.9781082, 0.9839512, 0.99260986, 0.9937452, 0.9925758]\n"
     ]
    }
   ],
   "source": [
    "print(cs)"
   ]
  },
  {
   "cell_type": "code",
   "execution_count": 89,
   "metadata": {},
   "outputs": [
    {
     "name": "stdout",
     "output_type": "stream",
     "text": [
      "0.9899980256557465\n"
     ]
    }
   ],
   "source": [
    "print(sum(cs)/len(cs))\n"
   ]
  },
  {
   "cell_type": "code",
   "execution_count": 91,
   "metadata": {},
   "outputs": [
    {
     "name": "stdout",
     "output_type": "stream",
     "text": [
      "[1.]\n",
      "[[1.]\n",
      " [1.]\n",
      " [1.]\n",
      " [1.]\n",
      " [1.]\n",
      " [1.]\n",
      " [1.]\n",
      " [1.]\n",
      " [1.]\n",
      " [1.]\n",
      " [1.]\n",
      " [1.]\n",
      " [1.]\n",
      " [1.]\n",
      " [1.]\n",
      " [1.]\n",
      " [1.]\n",
      " [1.]\n",
      " [1.]\n",
      " [1.]\n",
      " [1.]\n",
      " [1.]\n",
      " [1.]\n",
      " [1.]\n",
      " [1.]\n",
      " [1.]\n",
      " [1.]\n",
      " [1.]\n",
      " [1.]\n",
      " [1.]\n",
      " [1.]\n",
      " [1.]\n",
      " [1.]\n",
      " [1.]\n",
      " [1.]\n",
      " [1.]\n",
      " [1.]\n",
      " [1.]\n",
      " [1.]\n",
      " [1.]\n",
      " [1.]\n",
      " [1.]\n",
      " [1.]\n",
      " [1.]\n",
      " [1.]\n",
      " [1.]\n",
      " [1.]\n",
      " [1.]\n",
      " [1.]\n",
      " [1.]\n",
      " [1.]\n",
      " [1.]\n",
      " [1.]\n",
      " [1.]\n",
      " [1.]\n",
      " [1.]\n",
      " [1.]\n",
      " [1.]\n",
      " [1.]\n",
      " [1.]\n",
      " [1.]\n",
      " [1.]\n",
      " [1.]\n",
      " [1.]\n",
      " [1.]\n",
      " [1.]\n",
      " [1.]\n",
      " [1.]\n",
      " [1.]\n",
      " [1.]\n",
      " [1.]\n",
      " [1.]\n",
      " [1.]\n",
      " [1.]\n",
      " [1.]\n",
      " [1.]\n",
      " [1.]\n",
      " [1.]\n",
      " [1.]\n",
      " [1.]\n",
      " [1.]\n",
      " [1.]\n",
      " [1.]\n",
      " [1.]\n",
      " [1.]\n",
      " [1.]\n",
      " [1.]\n",
      " [1.]\n",
      " [1.]\n",
      " [1.]\n",
      " [1.]\n",
      " [1.]\n",
      " [1.]\n",
      " [1.]\n",
      " [1.]\n",
      " [1.]\n",
      " [1.]\n",
      " [1.]\n",
      " [1.]\n",
      " [1.]\n",
      " [1.]\n",
      " [1.]\n",
      " [1.]\n",
      " [1.]\n",
      " [1.]\n",
      " [1.]\n",
      " [1.]\n",
      " [1.]\n",
      " [1.]\n",
      " [1.]\n",
      " [1.]\n",
      " [1.]\n",
      " [1.]\n",
      " [1.]\n",
      " [1.]\n",
      " [1.]\n",
      " [1.]\n",
      " [1.]\n",
      " [1.]\n",
      " [1.]\n",
      " [1.]\n",
      " [1.]\n",
      " [1.]\n",
      " [1.]\n",
      " [1.]\n",
      " [1.]\n",
      " [1.]\n",
      " [1.]\n",
      " [1.]\n",
      " [1.]\n",
      " [1.]\n",
      " [1.]\n",
      " [1.]\n",
      " [1.]\n",
      " [1.]\n",
      " [1.]\n",
      " [1.]\n",
      " [1.]\n",
      " [1.]\n",
      " [1.]\n",
      " [1.]\n",
      " [1.]\n",
      " [1.]\n",
      " [1.]\n",
      " [1.]\n",
      " [1.]\n",
      " [1.]\n",
      " [1.]\n",
      " [1.]\n",
      " [1.]\n",
      " [1.]\n",
      " [1.]\n",
      " [1.]\n",
      " [1.]\n",
      " [1.]\n",
      " [1.]\n",
      " [1.]\n",
      " [1.]\n",
      " [1.]\n",
      " [1.]\n",
      " [1.]\n",
      " [1.]\n",
      " [1.]\n",
      " [1.]\n",
      " [1.]\n",
      " [1.]\n",
      " [1.]\n",
      " [1.]\n",
      " [1.]\n",
      " [1.]\n",
      " [1.]\n",
      " [1.]\n",
      " [1.]\n",
      " [1.]\n",
      " [1.]\n",
      " [1.]\n",
      " [1.]\n",
      " [1.]\n",
      " [1.]\n",
      " [1.]\n",
      " [1.]\n",
      " [1.]\n",
      " [1.]\n",
      " [1.]\n",
      " [1.]\n",
      " [1.]\n",
      " [1.]\n",
      " [1.]\n",
      " [1.]\n",
      " [1.]\n",
      " [1.]\n",
      " [1.]\n",
      " [1.]\n",
      " [1.]\n",
      " [1.]\n",
      " [1.]\n",
      " [1.]\n",
      " [1.]\n",
      " [1.]\n",
      " [1.]\n",
      " [1.]\n",
      " [1.]\n",
      " [1.]\n",
      " [1.]\n",
      " [1.]\n",
      " [1.]\n",
      " [1.]\n",
      " [1.]\n",
      " [1.]\n",
      " [1.]\n",
      " [1.]\n",
      " [1.]\n",
      " [1.]\n",
      " [1.]\n",
      " [1.]\n",
      " [1.]\n",
      " [1.]\n",
      " [1.]\n",
      " [1.]\n",
      " [1.]\n",
      " [1.]\n",
      " [1.]\n",
      " [1.]\n",
      " [1.]\n",
      " [1.]\n",
      " [1.]\n",
      " [1.]\n",
      " [1.]\n",
      " [1.]\n",
      " [1.]\n",
      " [1.]\n",
      " [1.]\n",
      " [1.]\n",
      " [1.]\n",
      " [1.]\n",
      " [1.]\n",
      " [1.]\n",
      " [1.]\n",
      " [1.]\n",
      " [1.]\n",
      " [1.]\n",
      " [1.]\n",
      " [1.]\n",
      " [1.]\n",
      " [1.]\n",
      " [1.]\n",
      " [1.]\n",
      " [1.]\n",
      " [1.]\n",
      " [1.]\n",
      " [1.]\n",
      " [1.]\n",
      " [1.]\n",
      " [1.]\n",
      " [1.]\n",
      " [1.]\n",
      " [1.]\n",
      " [1.]\n",
      " [1.]\n",
      " [1.]\n",
      " [1.]\n",
      " [1.]\n",
      " [1.]\n",
      " [1.]\n",
      " [1.]\n",
      " [1.]\n",
      " [1.]\n",
      " [1.]\n",
      " [1.]\n",
      " [1.]\n",
      " [1.]\n",
      " [1.]\n",
      " [1.]\n",
      " [1.]\n",
      " [1.]\n",
      " [1.]\n",
      " [1.]\n",
      " [1.]\n",
      " [1.]\n",
      " [1.]\n",
      " [1.]\n",
      " [1.]\n",
      " [1.]\n",
      " [1.]\n",
      " [1.]\n",
      " [1.]\n",
      " [1.]\n",
      " [1.]\n",
      " [1.]\n",
      " [1.]\n",
      " [1.]\n",
      " [1.]\n",
      " [1.]\n",
      " [1.]\n",
      " [1.]\n",
      " [1.]\n",
      " [1.]\n",
      " [1.]\n",
      " [1.]\n",
      " [1.]\n",
      " [1.]\n",
      " [1.]\n",
      " [1.]\n",
      " [1.]\n",
      " [1.]\n",
      " [1.]\n",
      " [1.]\n",
      " [1.]\n",
      " [1.]\n",
      " [1.]\n",
      " [1.]\n",
      " [1.]\n",
      " [1.]\n",
      " [1.]\n",
      " [1.]\n",
      " [1.]\n",
      " [1.]\n",
      " [1.]\n",
      " [1.]\n",
      " [1.]\n",
      " [1.]\n",
      " [1.]\n",
      " [1.]\n",
      " [1.]\n",
      " [1.]\n",
      " [1.]\n",
      " [1.]\n",
      " [1.]\n",
      " [1.]\n",
      " [1.]\n",
      " [1.]\n",
      " [1.]\n",
      " [1.]\n",
      " [1.]\n",
      " [1.]\n",
      " [1.]\n",
      " [1.]\n",
      " [1.]\n",
      " [1.]\n",
      " [1.]\n",
      " [1.]\n",
      " [1.]\n",
      " [1.]\n",
      " [1.]\n",
      " [1.]\n",
      " [1.]\n",
      " [1.]\n",
      " [1.]\n",
      " [1.]\n",
      " [1.]\n",
      " [1.]\n",
      " [1.]\n",
      " [1.]\n",
      " [1.]\n",
      " [1.]\n",
      " [1.]\n",
      " [1.]\n",
      " [1.]\n",
      " [1.]\n",
      " [1.]\n",
      " [1.]\n",
      " [1.]\n",
      " [1.]\n",
      " [1.]\n",
      " [1.]\n",
      " [1.]\n",
      " [1.]\n",
      " [1.]\n",
      " [1.]\n",
      " [1.]\n",
      " [1.]\n",
      " [1.]\n",
      " [1.]\n",
      " [1.]\n",
      " [1.]\n",
      " [1.]\n",
      " [1.]\n",
      " [1.]\n",
      " [1.]\n",
      " [1.]\n",
      " [1.]\n",
      " [1.]\n",
      " [1.]\n",
      " [1.]\n",
      " [1.]\n",
      " [1.]\n",
      " [1.]\n",
      " [1.]\n",
      " [1.]\n",
      " [1.]\n",
      " [1.]\n",
      " [1.]\n",
      " [1.]\n",
      " [1.]\n",
      " [1.]\n",
      " [1.]\n",
      " [1.]\n",
      " [1.]\n",
      " [1.]\n",
      " [1.]\n",
      " [1.]\n",
      " [1.]\n",
      " [1.]\n",
      " [1.]\n",
      " [1.]\n",
      " [1.]\n",
      " [1.]\n",
      " [1.]\n",
      " [1.]\n",
      " [1.]\n",
      " [1.]\n",
      " [1.]\n",
      " [1.]\n",
      " [1.]\n",
      " [1.]\n",
      " [1.]\n",
      " [1.]\n",
      " [1.]\n",
      " [1.]\n",
      " [1.]\n",
      " [1.]\n",
      " [1.]\n",
      " [1.]\n",
      " [1.]\n",
      " [1.]\n",
      " [1.]\n",
      " [1.]\n",
      " [1.]\n",
      " [1.]\n",
      " [1.]\n",
      " [1.]\n",
      " [1.]\n",
      " [1.]\n",
      " [1.]\n",
      " [1.]\n",
      " [1.]\n",
      " [1.]\n",
      " [1.]\n",
      " [1.]\n",
      " [1.]\n",
      " [1.]\n",
      " [1.]\n",
      " [1.]\n",
      " [1.]\n",
      " [1.]\n",
      " [1.]\n",
      " [1.]\n",
      " [1.]\n",
      " [1.]\n",
      " [1.]\n",
      " [1.]\n",
      " [1.]\n",
      " [1.]\n",
      " [1.]\n",
      " [1.]\n",
      " [1.]\n",
      " [1.]\n",
      " [1.]\n",
      " [1.]\n",
      " [1.]\n",
      " [1.]\n",
      " [1.]\n",
      " [1.]\n",
      " [1.]\n",
      " [1.]\n",
      " [1.]\n",
      " [1.]\n",
      " [1.]\n",
      " [1.]\n",
      " [1.]\n",
      " [1.]\n",
      " [1.]\n",
      " [1.]\n",
      " [1.]\n",
      " [1.]\n",
      " [1.]\n",
      " [1.]\n",
      " [1.]\n",
      " [1.]\n",
      " [1.]\n",
      " [1.]\n",
      " [1.]\n",
      " [1.]\n",
      " [1.]\n",
      " [1.]\n",
      " [1.]\n",
      " [1.]\n",
      " [1.]\n",
      " [1.]\n",
      " [1.]\n",
      " [1.]\n",
      " [1.]\n",
      " [1.]\n",
      " [1.]\n",
      " [1.]\n",
      " [1.]\n",
      " [1.]\n",
      " [1.]\n",
      " [1.]\n",
      " [1.]]\n"
     ]
    },
    {
     "data": {
      "image/png": "[encoded data removed]",
      "text/plain": [
       "<Figure size 432x288 with 1 Axes>"
      ]
     },
     "metadata": {
      "needs_background": "light"
     },
     "output_type": "display_data"
    }
   ],
   "source": [
    "print(X_test_L[499])\n",
    "plt.imshow(X_test[499].reshape(28,28))\n",
    "print(X_test_L)"
   ]
  },
  {
   "cell_type": "code",
   "execution_count": 92,
   "metadata": {},
   "outputs": [
    {
     "name": "stdout",
     "output_type": "stream",
     "text": [
      "(28, 28, 1)\n"
     ]
    },
    {
     "data": {
      "image/png": "[encoded data removed]",
      "text/plain": [
       "<Figure size 1440x576 with 1 Axes>"
      ]
     },
     "metadata": {
      "needs_background": "light"
     },
     "output_type": "display_data"
    }
   ],
   "source": [
    "plt.figure(figsize=(20, 8))\n",
    "for i in range(n_neigh):\n",
    "    # display original\n",
    "    ax = plt.subplot(1, n_neigh, i+1)\n",
    "    plt.imshow(closest_images[i].reshape(28, 28))\n",
    "    print(closest_images[i].shape)\n",
    "    #plt.gray()\n",
    "    ax.get_xaxis().set_visible(False)\n",
    "    ax.get_yaxis().set_visible(False)\n",
    "    \n",
    "plt.show()"
   ]
  },
  {
   "cell_type": "code",
   "execution_count": 66,
   "metadata": {},
   "outputs": [
    {
     "name": "stdout",
     "output_type": "stream",
     "text": [
      "(1, 4, 4, 8)\n",
      "[2.2427335  0.9136718  0.3900329  1.0778781  1.0546072  1.1725368\n",
      " 2.292216   0.16958904 4.589869   2.1922348  0.2189847  2.0992372\n",
      " 1.6842656  1.7894089  2.0000112  1.067383   3.8135724  3.703004\n",
      " 0.32424974 2.2091317  1.9605626  1.2038901  0.95692015 0.98544943\n",
      " 0.63433313 1.563587   0.23187327 1.1375701  1.9177736  0.04469847\n",
      " 0.88229203 0.9587061  2.7043803  0.83744276 0.50507784 0.50393504\n",
      " 1.253917   1.1311233  1.5226128  1.3380262  3.9350734  2.1963053\n",
      " 0.         1.607269   1.524018   0.69846016 0.58357966 1.3416716\n",
      " 3.8381987  3.5637212  0.35460594 1.6860129  1.5791187  0.81720835\n",
      " 0.29233864 1.2780231  1.2861167  3.0718994  0.00899107 2.110485\n",
      " 2.0416713  0.         0.46320343 0.8909964  2.6124356  0.57654256\n",
      " 0.39952004 0.         1.3099345  1.3077011  1.4799944  1.9806856\n",
      " 4.150769   2.0951104  0.6940289  1.1851759  1.7796512  1.2822707\n",
      " 0.57226217 2.2274194  4.1820035  2.8003829  0.82303894 1.1656111\n",
      " 1.9437609  1.2952595  0.00982405 2.1682658  1.9946626  3.239477\n",
      " 0.8615774  1.6703179  1.7652112  0.         0.02782501 1.1781908\n",
      " 0.94744647 0.4196673  0.01112911 0.1414047  1.080507   0.73132646\n",
      " 1.3091447  1.6745354  1.2039549  1.2910328  0.04333808 0.\n",
      " 1.2456237  0.2644115  1.5903031  2.4231558  1.325082   1.7315185\n",
      " 0.         0.         1.2676306  0.24762382 1.6230004  2.5392647\n",
      " 0.55587935 2.10467    0.40984547 0.         1.0814433  0.\n",
      " 1.1261059  1.5628824 ]\n",
      "(128,)\n",
      "0.98731285\n"
     ]
    }
   ],
   "source": [
    "codes1 = encoder.predict(closest_images)\n",
    "query_code1 = encoder.predict(X_test[0].reshape(1,28,28,1))\n",
    "print(query_code1.shape)\n",
    "query_code1_temp = query_code1.reshape(128)\n",
    "print(query_code1_temp)\n",
    "codes1_temp = codes1[0].reshape(128)\n",
    "print(codes1_temp.shape)\n",
    "print(np.dot(codes1_temp, query_code1_temp) / (np.linalg.norm(codes1_temp) * np.linalg.norm(query_code1_temp)))"
   ]
  },
  {
   "cell_type": "code",
   "execution_count": 67,
   "metadata": {},
   "outputs": [
    {
     "name": "stdout",
     "output_type": "stream",
     "text": [
      "(128,)\n"
     ]
    }
   ],
   "source": [
    "print(query_code1_temp.shape)"
   ]
  },
  {
   "cell_type": "code",
   "execution_count": 24,
   "metadata": {},
   "outputs": [],
   "source": [
    "X_test = np.delete(X_test, 8, axis=0)"
   ]
  },
  {
   "cell_type": "code",
   "execution_count": 25,
   "metadata": {},
   "outputs": [],
   "source": [
    "codes = encoder.predict(X_test)"
   ]
  },
  {
   "cell_type": "code",
   "execution_count": 26,
   "metadata": {},
   "outputs": [
    {
     "data": {
      "text/plain": [
       "(499, 4, 4, 8)"
      ]
     },
     "execution_count": 26,
     "metadata": {},
     "output_type": "execute_result"
    }
   ],
   "source": [
    "codes.shape\n"
   ]
  },
  {
   "cell_type": "code",
   "execution_count": 27,
   "metadata": {},
   "outputs": [],
   "source": [
    "query_code = encoder.predict(query.reshape(1,28,28,1))"
   ]
  },
  {
   "cell_type": "code",
   "execution_count": 28,
   "metadata": {},
   "outputs": [
    {
     "data": {
      "text/plain": [
       "(1, 4, 4, 8)"
      ]
     },
     "execution_count": 28,
     "metadata": {},
     "output_type": "execute_result"
    }
   ],
   "source": [
    "query_code.shape"
   ]
  },
  {
   "cell_type": "code",
   "execution_count": 29,
   "metadata": {},
   "outputs": [
    {
     "name": "stdout",
     "output_type": "stream",
     "text": [
      "(499, 128)\n",
      "(1, 128)\n"
     ]
    }
   ],
   "source": [
    "from sklearn.neighbors import NearestNeighbors\n",
    "n_neigh = 5\n",
    "codes = codes.reshape(-1, 4*4*8); print(codes.shape)\n",
    "query_code = query_code.reshape(1, 4*4*8); print(query_code.shape)"
   ]
  },
  {
   "cell_type": "code",
   "execution_count": 30,
   "metadata": {},
   "outputs": [
    {
     "name": "stdout",
     "output_type": "stream",
     "text": [
      "(5, 28, 28, 1)\n"
     ]
    }
   ],
   "source": [
    "nbrs = NearestNeighbors(n_neighbors=n_neigh).fit(codes)\n",
    "distances, indices = nbrs.kneighbors(np.array(query_code))\n",
    "closest_images = X_test[indices]\n",
    "closest_images = closest_images.reshape(-1,28,28,1); \n",
    "print(closest_images.shape)"
   ]
  },
  {
   "cell_type": "code",
   "execution_count": null,
   "metadata": {},
   "outputs": [],
   "source": [
    "# batchX, batchY = validation_generator.next()\n",
    "# print('Batch shape=%s, min=%.3f, max=%.3f' % (batchX.shape, batchX.min(), batchX.max()))"
   ]
  },
  {
   "cell_type": "code",
   "execution_count": 31,
   "metadata": {},
   "outputs": [
    {
     "data": {
      "text/plain": [
       "<matplotlib.image.AxesImage at 0x2842e73b5c0>"
      ]
     },
     "execution_count": 31,
     "metadata": {},
     "output_type": "execute_result"
    },
    {
     "data": {
      "image/png": "[encoded data removed]",
      "text/plain": [
       "<Figure size 432x288 with 1 Axes>"
      ]
     },
     "metadata": {
      "needs_background": "light"
     },
     "output_type": "display_data"
    }
   ],
   "source": [
    "plt.imshow(query.reshape(28,28), cmap='gray')"
   ]
  },
  {
   "cell_type": "code",
   "execution_count": 42,
   "metadata": {},
   "outputs": [
    {
     "name": "stdout",
     "output_type": "stream",
     "text": [
      "(28, 28, 1)\n",
      "(28, 28, 1)\n",
      "(28, 28, 1)\n",
      "(28, 28, 1)\n",
      "(28, 28, 1)\n"
     ]
    },
    {
     "data": {
      "image/png": "[encoded data removed]",
      "text/plain": [
       "<Figure size 1440x576 with 5 Axes>"
      ]
     },
     "metadata": {
      "needs_background": "light"
     },
     "output_type": "display_data"
    }
   ],
   "source": [
    "plt.figure(figsize=(20, 8))\n",
    "for i in range(n_neigh):\n",
    "    # display original\n",
    "    ax = plt.subplot(1, n_neigh, i+1)\n",
    "    plt.imshow(closest_images[i].reshape(28, 28))\n",
    "    print(closest_images[i].shape)\n",
    "    #plt.gray()\n",
    "    ax.get_xaxis().set_visible(False)\n",
    "    ax.get_yaxis().set_visible(False)\n",
    "    \n",
    "plt.show()"
   ]
  },
  {
   "cell_type": "code",
   "execution_count": 41,
   "metadata": {},
   "outputs": [
    {
     "data": {
      "text/plain": [
       "(28, 28, 1)"
      ]
     },
     "execution_count": 41,
     "metadata": {},
     "output_type": "execute_result"
    }
   ],
   "source": [
    "closest_images[0].shape"
   ]
  },
  {
   "cell_type": "code",
   "execution_count": 33,
   "metadata": {},
   "outputs": [],
   "source": [
    "codes1 = encoder.predict(closest_images)"
   ]
  },
  {
   "cell_type": "code",
   "execution_count": 34,
   "metadata": {},
   "outputs": [
    {
     "name": "stdout",
     "output_type": "stream",
     "text": [
      "[[[2.8622673  0.8239482  0.40432307 0.8697711  1.0668973  1.4218044\n",
      "   2.297845   0.83026403]\n",
      "  [4.3758717  2.4891086  0.13780716 2.3197126  1.924981   1.5262511\n",
      "   1.5553385  0.90146035]\n",
      "  [3.9958699  3.5554454  0.16385943 2.0278358  1.7621665  1.4596639\n",
      "   1.1559252  1.0848359 ]\n",
      "  [1.1452419  2.4427125  0.10577709 1.9783981  2.2952752  0.09890664\n",
      "   0.7812747  0.9453635 ]]\n",
      "\n",
      " [[2.8964565  0.9692764  0.40875357 0.68664044 1.1627725  1.2230012\n",
      "   1.7321528  1.8710808 ]\n",
      "  [3.971031   2.4772189  0.         1.6503892  1.7374636  0.57908016\n",
      "   0.45453006 1.4827291 ]\n",
      "  [4.019991   3.2807546  0.5323441  1.2840265  1.8930433  1.0543174\n",
      "   0.41088155 2.1968625 ]\n",
      "  [1.5309052  3.5879314  0.07812508 2.2664106  2.3729649  0.\n",
      "   0.243841   1.1131471 ]]\n",
      "\n",
      " [[2.8883982  1.0592434  0.526362   0.6419712  1.4662455  1.4166467\n",
      "   1.448501   2.091175  ]\n",
      "  [3.5555131  2.246281   0.01634965 1.6125139  2.0013094  1.2729318\n",
      "   0.772704   1.4127737 ]\n",
      "  [3.1987078  2.8253114  0.4133165  1.2880819  2.001709   1.5976207\n",
      "   1.1303302  2.5478954 ]\n",
      "  [1.746063   3.3281717  0.64784104 1.6922605  1.885541   0.\n",
      "   0.34030658 1.4365584 ]]\n",
      "\n",
      " [[2.842391   0.94290775 0.6756838  0.19206637 1.2125909  1.0640655\n",
      "   0.9064586  1.6342134 ]\n",
      "  [3.6120756  1.824644   0.4656529  0.7235863  1.6249288  0.5793303\n",
      "   0.29581517 1.041375  ]\n",
      "  [3.7890537  2.0198464  0.693567   0.39122748 1.6512897  1.0641143\n",
      "   0.44483155 2.0382738 ]\n",
      "  [2.3897803  2.8216379  1.4054757  0.5630081  1.4210397  0.20243135\n",
      "   0.17985654 0.6477176 ]]]\n"
     ]
    }
   ],
   "source": [
    "print(codes1[0])"
   ]
  },
  {
   "cell_type": "code",
   "execution_count": 35,
   "metadata": {},
   "outputs": [
    {
     "name": "stdout",
     "output_type": "stream",
     "text": [
      "[3.152003   0.85704714 0.3564255  0.89948857 1.1349943  1.4697609\n",
      " 2.2711878  0.85486084 4.462257   2.739143   0.17157555 2.4399557\n",
      " 2.099541   1.5561433  1.3411272  0.9931348  4.0113454  3.5842676\n",
      " 0.14294809 2.0927868  1.7770792  1.4879086  1.1123658  1.2418116\n",
      " 1.2068821  2.622052   0.06441821 2.1532822  2.2698138  0.04319351\n",
      " 0.70615435 0.95480454 3.0603023  0.9894484  0.27767175 0.68423563\n",
      " 1.2483678  1.2630358  1.7187995  2.0282853  4.176225   2.673359\n",
      " 0.07212873 1.8305548  1.8561858  0.6390543  0.308642   1.6144218\n",
      " 4.171287   3.2250826  0.6321825  1.3000191  1.8165153  1.1232142\n",
      " 0.36213696 2.287732   1.6868342  3.6835818  0.15589717 2.2065063\n",
      " 2.388162   0.         0.14712685 1.1779711  3.0351136  1.165737\n",
      " 0.49321625 0.6785726  1.4754359  1.3979619  1.5580852  2.0923011\n",
      " 3.5646684  2.3574476  0.08762089 1.854717   2.0186028  1.4706607\n",
      " 0.90409875 1.7383815  3.3750527  2.7823126  0.55062526 1.3791429\n",
      " 2.0023777  1.4943135  1.1461012  2.651088   1.7681063  3.4547164\n",
      " 0.51867485 1.6270149  1.8913767  0.         0.49150085 1.3851249\n",
      " 2.9859316  0.8068071  0.6620533  0.20293188 1.1300756  0.92041105\n",
      " 0.93632436 1.6298404  3.8945878  2.0030046  0.5937318  0.53962886\n",
      " 1.572795   0.49731037 0.217609   1.2202368  3.7986546  2.2459235\n",
      " 0.68540835 0.41129777 1.6893095  0.9787108  0.30870786 1.8203114\n",
      " 2.326984   2.6806245  1.3128222  0.53673863 1.3558216  0.13614702\n",
      " 0.1655812  0.5933119 ]\n"
     ]
    }
   ],
   "source": [
    "query_code1 = encoder.predict(query.reshape(1,28,28,1))\n",
    "query_code1_temp = query_code1.reshape(128)\n",
    "print(query_code1_temp.s)"
   ]
  },
  {
   "cell_type": "code",
   "execution_count": 36,
   "metadata": {},
   "outputs": [
    {
     "name": "stdout",
     "output_type": "stream",
     "text": [
      "(1, 4, 4, 8)\n"
     ]
    }
   ],
   "source": [
    "print(query_code1.shape)"
   ]
  },
  {
   "cell_type": "code",
   "execution_count": 37,
   "metadata": {},
   "outputs": [
    {
     "name": "stdout",
     "output_type": "stream",
     "text": [
      "(128,)\n"
     ]
    }
   ],
   "source": [
    "codes1_temp = codes1[0].reshape(128)\n",
    "print(codes1_temp.shape)"
   ]
  },
  {
   "cell_type": "code",
   "execution_count": 38,
   "metadata": {},
   "outputs": [
    {
     "name": "stdout",
     "output_type": "stream",
     "text": [
      "[ 0.2897358   0.03309894 -0.04789758  0.02971745  0.068097    0.04795647\n",
      " -0.0266571   0.02459681  0.08638525  0.25003433  0.03376839  0.12024307\n",
      "  0.17455995  0.02989221 -0.21421134  0.09167445  0.01547551  0.02882218\n",
      " -0.02091134  0.06495094  0.01491272  0.02824473 -0.04355931  0.15697575\n",
      "  0.06164026  0.17933941 -0.04135888  0.17488408 -0.02546144 -0.05571312\n",
      " -0.07512033  0.00944102  0.16384578  0.020172   -0.13108182 -0.00240481\n",
      "  0.08559525  0.04003453 -0.01335335  0.15720451  0.20519423  0.19614005\n",
      "  0.07212873  0.18016565  0.1187222   0.05997413 -0.14588806  0.13169277\n",
      "  0.15129614 -0.05567193  0.09983838  0.01599264 -0.07652795  0.06889689\n",
      " -0.04874459  0.09086943  0.15592897  0.09565043  0.07777209 -0.05990434\n",
      "  0.01519704  0.         -0.09671415  0.06482399  0.1467154   0.10649359\n",
      " -0.03314576  0.03660142  0.00919032 -0.01868486  0.10958421  0.00112605\n",
      "  0.00915527  0.11116672  0.07127125  0.24220312  0.01729345  0.19772887\n",
      "  0.13139474  0.32560778  0.17634487 -0.04299879  0.13730878  0.091061\n",
      "  0.00066876 -0.10330725  0.01577103  0.10319257  0.02204335  0.12654471\n",
      " -0.12916619 -0.06524563  0.00583577  0.          0.15119427 -0.05143344\n",
      "  0.14354062 -0.13610065 -0.01363051  0.01086551 -0.08251536 -0.1436544\n",
      "  0.02986574 -0.00437307  0.2825122   0.17836058  0.12807891 -0.18395746\n",
      " -0.0521338  -0.08201995 -0.07820617  0.17886174  0.00960088  0.22607708\n",
      " -0.00815862  0.02007028  0.03801978 -0.08540356 -0.13612369 -0.21796238\n",
      " -0.06279635 -0.14101338 -0.09265351 -0.0262695  -0.06521809 -0.06628433\n",
      " -0.01427534 -0.05440569]\n"
     ]
    }
   ],
   "source": [
    "print(query_code1_temp-codes1_temp)"
   ]
  },
  {
   "cell_type": "code",
   "execution_count": 39,
   "metadata": {},
   "outputs": [
    {
     "name": "stdout",
     "output_type": "stream",
     "text": [
      "0.99851274\n"
     ]
    }
   ],
   "source": [
    "print(np.dot(codes1_temp, query_code1_temp) / (np.linalg.norm(codes1_temp) * np.linalg.norm(query_code1_temp)))"
   ]
  },
  {
   "cell_type": "code",
   "execution_count": null,
   "metadata": {},
   "outputs": [],
   "source": [
    "cos = np.dot(codes1_temp, query_code1) / (np.sqrt(numpy.dot(codes1_temp,codes1_temp)) * np.sqrt(numpy.dot(query_code1,query_code1)))"
   ]
  },
  {
   "cell_type": "code",
   "execution_count": null,
   "metadata": {},
   "outputs": [],
   "source": [
    "# from keras.preprocessing.image import load_img\n",
    "# # load the image\n",
    "# img = load_img('classes/0/img_20200428-234715_0.png')\n",
    "# # report details about the image\n",
    "# print(type(img))\n",
    "# print(img.format)\n",
    "# print(img.mode)\n",
    "# print(img.size)\n",
    "# # show the image\n",
    "# img.show()"
   ]
  },
  {
   "cell_type": "code",
   "execution_count": null,
   "metadata": {},
   "outputs": [],
   "source": [
    "#loss = autoencoder.evaluate_generator(validation_generator, steps=48)"
   ]
  },
  {
   "cell_type": "code",
   "execution_count": 43,
   "metadata": {},
   "outputs": [
    {
     "name": "stdout",
     "output_type": "stream",
     "text": [
      "(499, 28, 28, 1)\n"
     ]
    }
   ],
   "source": [
    "print(X_test.shape)"
   ]
  },
  {
   "cell_type": "code",
   "execution_count": null,
   "metadata": {},
   "outputs": [],
   "source": []
  }
 ],
 "metadata": {
  "kernelspec": {
   "display_name": "Python 3",
   "language": "python",
   "name": "python3"
  },
  "language_info": {
   "codemirror_mode": {
    "name": "ipython",
    "version": 3
   },
   "file_extension": ".py",
   "mimetype": "text/x-python",
   "name": "python",
   "nbconvert_exporter": "python",
   "pygments_lexer": "ipython3",
   "version": "3.7.3"
  }
 },
 "nbformat": 4,
 "nbformat_minor": 2
}
